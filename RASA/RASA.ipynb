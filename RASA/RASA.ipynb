{
 "cells": [
  {
   "cell_type": "markdown",
   "id": "d935b5c4-bbc4-43ad-9b22-ea1a4ea40194",
   "metadata": {},
   "source": [
    "### RASA\n",
    "\n",
    "lanciando il comando <code>!rasa init</code> inizializzeremo il nostro ambiente di sviluppo. Questo ci permetterà anche di creare un piccolo chatbot di prova pre-allenato per capire gli intenti molto basici come il saluto\n",
    "\n",
    "Andiamo a scoprire gli altri files creati durante l'inizializzazione:\n",
    "\n",
    "- actions.py: file per la actions personalizzate. Qui potete programmare Rasa per chiamare server esterni via API, o qualsiasi altra Custom Action. Per chi è amante della modularità, ricordatevi che non è necessario scrivere tutto qui dentro, ma è possibile usare anche altri python scripts.\n",
    "\n",
    "- config.yml: qui ci sono le configurazioni per i vostri modelli di Natural Language Understading con Tensorflow oppure Spacy. In questo file definiremo le pipelines di Machine Learning e Deep Learning che intenderemo usare.\n",
    "\n",
    "- credentials.yml: qui sono custodite le credenziali per accedere a servizi esterni. Questo file è particolarmente utile nel caso fossimo interessati ad utilizare servizi come Facebook Messenger oppure Microsoft Bot Framework in modo da salvare gli API Tokens. Rasa ha una serie di connettori preconfigurati, quindi è solo necessario disporre delle credenziali di accesso.\n",
    "\n",
    "- data/nlu.yml: qui conserviamo i nostri data per il training dei nostri modelli. Definiremo gli Intent, e le relative frasi. Nel caso volessimo usare Rasa-X ricordiamoci che quello che aggiungiamo durante l'uso della webapp verrà automaticamente salvato qui.\n",
    "\n",
    "- data/stories.yml: questo file, importantissimo per la parte Core di Rasa definisce le nostre \"stories\", ossia il nostro flusso conversazionale. Rasa Core si preoccupa di controllare che l'interazione tra noi ed il bot segua un certo percorso, e per questo utilizza queste \"stories\" per allenare l'agente conversazionale. Le \"stories\" sono anche il proxy per il contesto nel quale il bot riesce ad interagire, quindi per poter produrre un'interazione efficace in un determinato contesto è necessario aggiungere le relative \"stories\" in questo file.\n",
    "\n",
    "- domain.yml: questo file definisce il dominio del chatbot. In parole povere qui definiamo l'integrazione dei nostri Intent e le Responses del virtual agent. In questo file è possibile riportare la funzione che si prende cura di gestire le nostre Custom Actions, in modo che Rasa la possa chiamare in modo automatico.\n",
    "\n",
    "- endpoints.yml: in questo files definiamo gli endpoints per connettere canali di comunciazione come Messenger o Slack. Questo step è più che altro relativo alla produzione, cioè quando decidiamo di servire il nostro agente in un canale di comunicazione gestito dall'azione.\n",
    "\n",
    "- models/\\<timestamp\\>.tar.gz: questo file indica il modello trainato che il Bot sta utilizzando."
   ]
  },
  {
   "cell_type": "markdown",
   "id": "ec6979ea-1020-4240-9814-38267ccacf05",
   "metadata": {},
   "source": [
    "I passaggi sono molto semplici:\n",
    "1. inserite gli intenti con degli esempi delle tipologie di conversazioni rappresentative dentro il file nlu.yml \n",
    "2. taggate gli esempi scritti al punto 1. con le entità rilevanti allo scopo del dialogo\n",
    "3. create gli utter di richiesta e risposta all'interno del file domain.yml\n",
    "4. creaimo adesso le storie nel file stories.yml in modo da collegare quanto creato fino ad ora in un esempio di dialogo tipico\n",
    "\n",
    "Finiti questi passaggi andiamo a ribuildare il bot:\n",
    "1. <code>rasa data validate</code>\n",
    "2. <code>rasa train --fixed-model-name dli_bot</code>\n",
    "\n",
    "Adesso possiamo parlare con il nostro bot: <code>rasa shell</code>\n",
    "\n",
    "Se vogliamo usare l'interfaccia web, installiamo Rasa X: <code>pip install rasa-x --extra-index-url https://pypi.rasa.com/simple</code>\n",
    "e poi lanciamolo: <code>rasa x</code>"
   ]
  },
  {
   "cell_type": "code",
   "execution_count": null,
   "id": "67998630-9ab9-4eea-8dbc-bf7966d0e785",
   "metadata": {},
   "outputs": [],
   "source": []
  },
  {
   "cell_type": "code",
   "execution_count": null,
   "id": "0fa86635-8986-4e6b-8fa7-fc89e42d0dc4",
   "metadata": {},
   "outputs": [],
   "source": []
  },
  {
   "cell_type": "code",
   "execution_count": null,
   "id": "6e63ae44-8165-4424-8ffd-e03f81c031c0",
   "metadata": {},
   "outputs": [],
   "source": []
  }
 ],
 "metadata": {
  "kernelspec": {
   "display_name": "Python 3 (ipykernel)",
   "language": "python",
   "name": "python3"
  },
  "language_info": {
   "codemirror_mode": {
    "name": "ipython",
    "version": 3
   },
   "file_extension": ".py",
   "mimetype": "text/x-python",
   "name": "python",
   "nbconvert_exporter": "python",
   "pygments_lexer": "ipython3",
   "version": "3.8.12"
  }
 },
 "nbformat": 4,
 "nbformat_minor": 5
}
